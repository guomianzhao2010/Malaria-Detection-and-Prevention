{
 "cells": [
  {
   "cell_type": "markdown",
   "metadata": {},
   "source": [
    "# Malaria Cell Images Extract, Transform, Load"
   ]
  },
  {
   "cell_type": "markdown",
   "metadata": {},
   "source": [
    "### The malaria cell images were downloaded from https://www.kaggle.com/iarunava/cell-images-for-detecting-malaria. Of the 27,560 images, we randomly selected 10,000 of them to analyze in order for the convolutional neural network model to run faster. 5,000 images were for infected and 5,000 were for uninfected. This subset of images is saved in the final dataset folder."
   ]
  },
  {
   "cell_type": "code",
   "execution_count": 1,
   "metadata": {},
   "outputs": [],
   "source": [
    "# import dependencies\n",
    "import numpy as np\n",
    "import pandas as pd \n",
    "from PIL import Image\n",
    "import random\n",
    "import glob"
   ]
  },
  {
   "cell_type": "code",
   "execution_count": 2,
   "metadata": {},
   "outputs": [],
   "source": [
    "# read in the images\n",
    "infected = glob.glob('cell_images/Parasitized/*.png')\n",
    "uninfected = glob.glob('cell_images/Uninfected/*.png')"
   ]
  },
  {
   "cell_type": "code",
   "execution_count": 3,
   "metadata": {},
   "outputs": [],
   "source": [
    "# randomly select 5,000 images from the parasitized folder and 5,000 from the uninfected folder\n",
    "sample_size = 5000\n",
    "\n",
    "# the following only saves the random indices of the images\n",
    "infected_indices = random.sample(range(len(infected)), sample_size)\n",
    "uninfected_indices = random.sample(range(len(uninfected)), sample_size)"
   ]
  },
  {
   "cell_type": "code",
   "execution_count": 4,
   "metadata": {},
   "outputs": [],
   "source": [
    "# append the 5,000 parasitized cell images into a list based on the indices\n",
    "infected_subset = []\n",
    "for index in infected_indices:\n",
    "    selected_pic = infected[index]\n",
    "    infected_subset.append(selected_pic)"
   ]
  },
  {
   "cell_type": "code",
   "execution_count": 5,
   "metadata": {},
   "outputs": [],
   "source": [
    "# append the 5,000 uninfected cell images into a list based on the indices\n",
    "uninfected_subset = []\n",
    "for index in uninfected_indices:\n",
    "    selected_pic = uninfected[index]\n",
    "    uninfected_subset.append(selected_pic)"
   ]
  },
  {
   "cell_type": "code",
   "execution_count": null,
   "metadata": {},
   "outputs": [],
   "source": [
    "# website with code to export images: https://www.geeksforgeeks.org/working-images-python/\n",
    "\n",
    "# export parasitized images to appropriate folder\n",
    "for pic in infected_subset:\n",
    "    img = Image.open(pic) \n",
    "    pic_link_split = pic.split('\\\\')\n",
    "    pic_link_name = pic_link_split[1]\n",
    "    img.save(f\"cell_images_subset/Parasitized/{pic_link_name}\") "
   ]
  },
  {
   "cell_type": "code",
   "execution_count": null,
   "metadata": {},
   "outputs": [],
   "source": [
    "# export uninfected images to appropriate folder\n",
    "for pic in uninfected_subset:\n",
    "    img = Image.open(pic) \n",
    "    pic_link_split = pic.split('\\\\')\n",
    "    pic_link_name = pic_link_split[1]                              \n",
    "    img.save(f\"cell_images_subset/Uninfected/{pic_link_name}\") "
   ]
  }
 ],
 "metadata": {
  "kernelspec": {
   "display_name": "Python 3",
   "language": "python",
   "name": "python3"
  },
  "language_info": {
   "codemirror_mode": {
    "name": "ipython",
    "version": 3
   },
   "file_extension": ".py",
   "mimetype": "text/x-python",
   "name": "python",
   "nbconvert_exporter": "python",
   "pygments_lexer": "ipython3",
   "version": "3.7.3"
  }
 },
 "nbformat": 4,
 "nbformat_minor": 2
}
