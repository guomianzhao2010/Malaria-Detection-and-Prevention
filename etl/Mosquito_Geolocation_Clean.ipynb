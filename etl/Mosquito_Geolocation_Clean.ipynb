{
 "cells": [
  {
   "cell_type": "markdown",
   "metadata": {},
   "source": [
    "# Clean Africa Mosquito Geolocation Data"
   ]
  },
  {
   "cell_type": "code",
   "execution_count": 1,
   "metadata": {},
   "outputs": [],
   "source": [
    "# import dependencies\n",
    "import pandas as pd"
   ]
  },
  {
   "cell_type": "code",
   "execution_count": 2,
   "metadata": {},
   "outputs": [],
   "source": [
    "# read in dataset\n",
    "mosquitoes = pd.read_csv(\"../data/trend/Mosquitoes.csv\")"
   ]
  },
  {
   "cell_type": "code",
   "execution_count": 3,
   "metadata": {},
   "outputs": [
    {
     "data": {
      "text/html": [
       "<div>\n",
       "<style scoped>\n",
       "    .dataframe tbody tr th:only-of-type {\n",
       "        vertical-align: middle;\n",
       "    }\n",
       "\n",
       "    .dataframe tbody tr th {\n",
       "        vertical-align: top;\n",
       "    }\n",
       "\n",
       "    .dataframe thead th {\n",
       "        text-align: right;\n",
       "    }\n",
       "</style>\n",
       "<table border=\"1\" class=\"dataframe\">\n",
       "  <thead>\n",
       "    <tr style=\"text-align: right;\">\n",
       "      <th></th>\n",
       "      <th>Country</th>\n",
       "      <th>GAUL_Admin1</th>\n",
       "      <th>GAUL_Admin2</th>\n",
       "      <th>Full_Name</th>\n",
       "      <th>Lat</th>\n",
       "      <th>Long</th>\n",
       "      <th>LatLong_Source</th>\n",
       "      <th>YeStart</th>\n",
       "      <th>YeEnd</th>\n",
       "      <th>An gambiae_complex</th>\n",
       "      <th>...</th>\n",
       "      <th>An rufipes</th>\n",
       "      <th>An coustani s.l</th>\n",
       "      <th>An ziemanni</th>\n",
       "      <th>An paludis</th>\n",
       "      <th>Adults/Larvae</th>\n",
       "      <th>Sampling_Methods</th>\n",
       "      <th>Species_Identification</th>\n",
       "      <th>Other sib species names</th>\n",
       "      <th>Other Anopheline species</th>\n",
       "      <th>Source_Title</th>\n",
       "    </tr>\n",
       "  </thead>\n",
       "  <tbody>\n",
       "    <tr>\n",
       "      <th>0</th>\n",
       "      <td>Angola</td>\n",
       "      <td>Bengo</td>\n",
       "      <td>Dande</td>\n",
       "      <td>Barra do Dande</td>\n",
       "      <td>-8.4730</td>\n",
       "      <td>13.362</td>\n",
       "      <td>Encarta</td>\n",
       "      <td>1967</td>\n",
       "      <td>1967</td>\n",
       "      <td>Y</td>\n",
       "      <td>...</td>\n",
       "      <td>NaN</td>\n",
       "      <td>NaN</td>\n",
       "      <td>NaN</td>\n",
       "      <td>NaN</td>\n",
       "      <td>Adults, Larvae</td>\n",
       "      <td>HLC, HBC, LC</td>\n",
       "      <td>M</td>\n",
       "      <td>NaN</td>\n",
       "      <td>NaN</td>\n",
       "      <td>Ribeiro H &amp; Ramos HC (1975). Research on the m...</td>\n",
       "    </tr>\n",
       "    <tr>\n",
       "      <th>1</th>\n",
       "      <td>Angola</td>\n",
       "      <td>Bengo</td>\n",
       "      <td>Dande</td>\n",
       "      <td>Boa Vista</td>\n",
       "      <td>-8.5990</td>\n",
       "      <td>13.566</td>\n",
       "      <td>Encarta</td>\n",
       "      <td>1987</td>\n",
       "      <td>1987</td>\n",
       "      <td>Y</td>\n",
       "      <td>...</td>\n",
       "      <td>NaN</td>\n",
       "      <td>NaN</td>\n",
       "      <td>NaN</td>\n",
       "      <td>NaN</td>\n",
       "      <td>Adults, Larvae</td>\n",
       "      <td>PSC, LC</td>\n",
       "      <td>M</td>\n",
       "      <td>NaN</td>\n",
       "      <td>NaN</td>\n",
       "      <td>Ramos L (1988). Memorandum sent to Director Ge...</td>\n",
       "    </tr>\n",
       "    <tr>\n",
       "      <th>2</th>\n",
       "      <td>Angola</td>\n",
       "      <td>Bengo</td>\n",
       "      <td>Dande</td>\n",
       "      <td>Cabungo</td>\n",
       "      <td>-8.5667</td>\n",
       "      <td>13.500</td>\n",
       "      <td>Other</td>\n",
       "      <td>2002</td>\n",
       "      <td>2002</td>\n",
       "      <td>Y</td>\n",
       "      <td>...</td>\n",
       "      <td>NaN</td>\n",
       "      <td>NaN</td>\n",
       "      <td>NaN</td>\n",
       "      <td>NaN</td>\n",
       "      <td>Adults</td>\n",
       "      <td>IR, Bednet traps</td>\n",
       "      <td>M, PCR</td>\n",
       "      <td>NaN</td>\n",
       "      <td>NaN</td>\n",
       "      <td>Calzetta M, Santolamazza F, Carrara GC, Cani P...</td>\n",
       "    </tr>\n",
       "  </tbody>\n",
       "</table>\n",
       "<p>3 rows × 41 columns</p>\n",
       "</div>"
      ],
      "text/plain": [
       "  Country GAUL_Admin1 GAUL_Admin2       Full_Name     Lat    Long  \\\n",
       "0  Angola       Bengo       Dande  Barra do Dande -8.4730  13.362   \n",
       "1  Angola       Bengo       Dande       Boa Vista -8.5990  13.566   \n",
       "2  Angola       Bengo       Dande         Cabungo -8.5667  13.500   \n",
       "\n",
       "  LatLong_Source  YeStart  YeEnd An gambiae_complex  ... An rufipes  \\\n",
       "0        Encarta     1967   1967                  Y  ...        NaN   \n",
       "1        Encarta     1987   1987                  Y  ...        NaN   \n",
       "2          Other     2002   2002                  Y  ...        NaN   \n",
       "\n",
       "  An coustani s.l An ziemanni  An paludis    Adults/Larvae  Sampling_Methods  \\\n",
       "0             NaN          NaN         NaN  Adults, Larvae      HLC, HBC, LC   \n",
       "1             NaN          NaN         NaN  Adults, Larvae           PSC, LC   \n",
       "2             NaN          NaN         NaN          Adults  IR, Bednet traps   \n",
       "\n",
       "  Species_Identification Other sib species names Other Anopheline species  \\\n",
       "0                      M                     NaN                      NaN   \n",
       "1                      M                     NaN                      NaN   \n",
       "2                 M, PCR                     NaN                      NaN   \n",
       "\n",
       "                                        Source_Title  \n",
       "0  Ribeiro H & Ramos HC (1975). Research on the m...  \n",
       "1  Ramos L (1988). Memorandum sent to Director Ge...  \n",
       "2  Calzetta M, Santolamazza F, Carrara GC, Cani P...  \n",
       "\n",
       "[3 rows x 41 columns]"
      ]
     },
     "execution_count": 3,
     "metadata": {},
     "output_type": "execute_result"
    }
   ],
   "source": [
    "mosquitoes.head(3)"
   ]
  },
  {
   "cell_type": "code",
   "execution_count": 4,
   "metadata": {},
   "outputs": [
    {
     "data": {
      "text/plain": [
       "48"
      ]
     },
     "execution_count": 4,
     "metadata": {},
     "output_type": "execute_result"
    }
   ],
   "source": [
    "# number of unique African countries in dataset\n",
    "len(mosquitoes['Country'].unique())"
   ]
  },
  {
   "cell_type": "code",
   "execution_count": 5,
   "metadata": {},
   "outputs": [
    {
     "data": {
      "text/plain": [
       "array(['Angola', 'Benin', 'Botswana', 'Burkina Faso', 'Burundi',\n",
       "       'Cameroon', 'Cape Verde', 'Central African Republic', 'Chad',\n",
       "       'Comoros', 'Congo', \"C™te d'Ivoire\",\n",
       "       'Democratic Republic of the Congo', 'Djibouti',\n",
       "       'Equatorial Guinea', 'Eritrea', 'Ethiopia', 'Gabon', 'Gambia',\n",
       "       'Ghana', 'Guinea', 'Guinea Bissau', 'Kenya', 'Liberia',\n",
       "       'Madagascar', 'Malawi', 'Mali', 'Mauritania', 'Mayotte',\n",
       "       'Mozambique', 'Namibia', 'Niger', 'Nigeria', 'Rwanda',\n",
       "       'Sao Tome and Principe', 'Senegal', 'Sierra Leone', 'Somalia',\n",
       "       'South Africa', 'South Sudan', 'Sudan', 'Swaziland', 'Tanzania',\n",
       "       'Togo', 'Uganda', 'Zambia', 'Zanzibar', 'Zimbabwe'], dtype=object)"
      ]
     },
     "execution_count": 5,
     "metadata": {},
     "output_type": "execute_result"
    }
   ],
   "source": [
    "mosquitoes['Country'].unique()"
   ]
  },
  {
   "cell_type": "code",
   "execution_count": 6,
   "metadata": {},
   "outputs": [],
   "source": [
    "mosquitoes['year_diff'] = mosquitoes['YeEnd'] - mosquitoes['YeStart']"
   ]
  },
  {
   "cell_type": "code",
   "execution_count": 7,
   "metadata": {},
   "outputs": [
    {
     "data": {
      "text/plain": [
       "count    13464.000000\n",
       "mean         7.254605\n",
       "std         15.313538\n",
       "min         -5.000000\n",
       "25%          0.000000\n",
       "50%          1.000000\n",
       "75%          9.000000\n",
       "max        114.000000\n",
       "Name: year_diff, dtype: float64"
      ]
     },
     "execution_count": 7,
     "metadata": {},
     "output_type": "execute_result"
    }
   ],
   "source": [
    "mosquitoes['year_diff'].describe()"
   ]
  },
  {
   "cell_type": "code",
   "execution_count": 8,
   "metadata": {},
   "outputs": [
    {
     "data": {
      "text/plain": [
       "10380    1898\n",
       "10394    1898\n",
       "10475    1899\n",
       "10497    1899\n",
       "10539    1899\n",
       "Name: YeStart, dtype: int64"
      ]
     },
     "execution_count": 8,
     "metadata": {},
     "output_type": "execute_result"
    }
   ],
   "source": [
    "mosquitoes['YeStart'][mosquitoes['YeStart'] < 1900]"
   ]
  },
  {
   "cell_type": "code",
   "execution_count": 9,
   "metadata": {},
   "outputs": [],
   "source": [
    "# create function to categorize year into decades\n",
    "def year_group(year):   \n",
    "    if year < 1900:\n",
    "        Year_Cat = 1\n",
    "    elif year >= 1900 and year < 1910:\n",
    "        Year_Cat = 2\n",
    "    elif year >= 1910 and year < 1920:\n",
    "        Year_Cat = 3\n",
    "    elif year >= 1920 and year < 1930:\n",
    "        Year_Cat = 4\n",
    "    elif year >= 1930 and year < 1940:\n",
    "        Year_Cat = 5\n",
    "    elif year >= 1940 and year < 1950:\n",
    "        Year_Cat = 6\n",
    "    elif year >= 1950 and year < 1960:\n",
    "        Year_Cat = 7\n",
    "    elif year >= 1960 and year < 1970:\n",
    "        Year_Cat = 8\n",
    "    elif year >= 1970 and year < 1980:\n",
    "        Year_Cat = 9\n",
    "    elif year >= 1980 and year < 1990:\n",
    "        Year_Cat = 10\n",
    "    elif year >= 1990 and year < 2000:\n",
    "        Year_Cat = 11\n",
    "    elif year >= 2000 and year < 2010:\n",
    "        Year_Cat = 12\n",
    "    elif year >= 2010 and year < 2020:\n",
    "        Year_Cat = 13\n",
    "    return Year_Cat"
   ]
  },
  {
   "cell_type": "code",
   "execution_count": 10,
   "metadata": {},
   "outputs": [],
   "source": [
    "# create function to categorize year groups into decades\n",
    "def year_group_name(year):   \n",
    "    if year < 1900:\n",
    "        Year_Group = \"1898-1899\"\n",
    "    elif year >= 1900 and year < 1910:\n",
    "        Year_Group = \"1900-1909\"\n",
    "    elif year >= 1910 and year < 1920:\n",
    "        Year_Group = \"1910-1919\"\n",
    "    elif year >= 1920 and year < 1930:\n",
    "        Year_Group = \"1920-1929\"\n",
    "    elif year >= 1930 and year < 1940:\n",
    "        Year_Group = \"1930-1939\"\n",
    "    elif year >= 1940 and year < 1950:\n",
    "        Year_Group = \"1940-1949\"\n",
    "    elif year >= 1950 and year < 1960:\n",
    "        Year_Group = \"1950-1959\"\n",
    "    elif year >= 1960 and year < 1970:\n",
    "        Year_Group = \"1960-1969\"\n",
    "    elif year >= 1970 and year < 1980:\n",
    "        Year_Group = \"1970-1979\"\n",
    "    elif year >= 1980 and year < 1990:\n",
    "        Year_Group = \"1980-1989\"\n",
    "    elif year >= 1990 and year < 2000:\n",
    "        Year_Group = \"1990-1999\"\n",
    "    elif year >= 2000 and year < 2010:\n",
    "        Year_Group = \"2000-2009\"\n",
    "    elif year >= 2010 and year < 2020:\n",
    "        Year_Group = \"2010-2016\"\n",
    "    return Year_Group"
   ]
  },
  {
   "cell_type": "code",
   "execution_count": 11,
   "metadata": {},
   "outputs": [],
   "source": [
    "# create categorical year variables\n",
    "mosquitoes['Year_Cat'] = mosquitoes['YeStart'].apply(year_group)\n",
    "mosquitoes['Year_Group'] = mosquitoes['YeStart'].apply(year_group_name)"
   ]
  },
  {
   "cell_type": "code",
   "execution_count": 12,
   "metadata": {},
   "outputs": [],
   "source": [
    "mosquitoes2 = mosquitoes[['Country', 'Year_Cat', 'Year_Group', 'Lat', 'Long']]"
   ]
  },
  {
   "cell_type": "code",
   "execution_count": 13,
   "metadata": {},
   "outputs": [],
   "source": [
    "mosquitoes2 = mosquitoes2.replace(\"C™te d'Ivoire\", \"Ivory Coast\")"
   ]
  },
  {
   "cell_type": "code",
   "execution_count": 14,
   "metadata": {},
   "outputs": [],
   "source": [
    "mosquitoes2.to_csv(\"../data/trend/mosquitoes2.csv\", index=False)"
   ]
  }
 ],
 "metadata": {
  "kernelspec": {
   "display_name": "Python 3",
   "language": "python",
   "name": "python3"
  },
  "language_info": {
   "codemirror_mode": {
    "name": "ipython",
    "version": 3
   },
   "file_extension": ".py",
   "mimetype": "text/x-python",
   "name": "python",
   "nbconvert_exporter": "python",
   "pygments_lexer": "ipython3",
   "version": "3.7.3"
  }
 },
 "nbformat": 4,
 "nbformat_minor": 2
}
